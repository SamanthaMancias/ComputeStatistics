{
  "nbformat": 4,
  "nbformat_minor": 0,
  "metadata": {
    "colab": {
      "provenance": []
    },
    "kernelspec": {
      "name": "python3",
      "display_name": "Python 3"
    },
    "language_info": {
      "name": "python"
    }
  },
  "cells": [
    {
      "cell_type": "code",
      "source": [
        "import time\n",
        "\n",
        "#     Calculate descriptive statistics for a list of numbers.\n",
        "\n",
        "\n",
        "#    Returns:\n",
        "#        dict: Dictionary containing descriptive statistics.\n",
        "#            - 'count': Count of numbers\n",
        "#            - 'mean': Mean of the numbers\n",
        "#            - 'median': Median of the numbers\n",
        "#            - 'mode': Mode of the numbers\n",
        "#            - 'variance': Variance of the numbers\n",
        "#            - 'std_deviation': Standard deviation of the numbers\n",
        "#            - 'elapsed_time': Time taken for computation\n",
        "\n",
        "\n",
        "def read_file(FILE_PATH):\n",
        "    try:\n",
        "        with open(FILE_PATH, 'r', encoding='utf-8') as file:\n",
        "            numbers = [float(x) for x in file.read().split()]\n",
        "        return numbers\n",
        "    except FileNotFoundError as e:\n",
        "        print(f\"Error: File not found - {e}\")\n",
        "        return None\n",
        "    except Exception as e:\n",
        "        print(f\"Error reading file: {e}\")\n",
        "        return None\n",
        "\n",
        "\n",
        "def compute_statistics(number_list):\n",
        "    if not number_list:\n",
        "        return None\n",
        "\n",
        "    start_time = time.time()\n",
        "\n",
        "    n = len(number_list)\n",
        "    mean = sum(number_list) / n\n",
        "\n",
        "    sorted_numbers = sorted(number_list)\n",
        "    middle = n // 2\n",
        "\n",
        "    median = (sorted_numbers[middle] +\n",
        "              sorted_numbers[middle - 1]) / 2 if n % 2 == 0 else sorted_numbers[middle]\n",
        "\n",
        "    number_count = {}\n",
        "    for num in number_list:\n",
        "        number_count[num] = number_count.get(num, 0) + 1\n",
        "\n",
        "    mode = [k for k, v in number_count.items() if v == max(number_count.values())]\n",
        "\n",
        "    squared_diff = sum((x - mean) ** 2 for x in number_list)\n",
        "    variance = squared_diff / n\n",
        "    std_deviation = variance ** 0.5\n",
        "\n",
        "    elapsed_time = time.time() - start_time\n",
        "\n",
        "    return {\n",
        "        \"count\": n,\n",
        "        \"mean\": mean,\n",
        "        \"median\": median,\n",
        "        \"mode\": mode,\n",
        "        \"variance\": variance,\n",
        "        \"std_deviation\": std_deviation,\n",
        "        \"elapsed_time\": elapsed_time\n",
        "    }\n",
        "\n",
        "\n",
        "def write_results_to_file(results):\n",
        "    with open('StatisticsResults.txt', 'w') as file:\n",
        "        file.write(f\"Count: {results['count']}\\n\")\n",
        "        file.write(f\"Mean: {results['mean']:.6f}\\n\")\n",
        "        file.write(f\"Median: {results['median']:.6f}\\n\")\n",
        "        file.write(f\"Mode: {results['mode']}\\n\")\n",
        "        file.write(f\"Variance: {results['variance']:.6f}\\n\")\n",
        "        file.write(f\"Standard Deviation: {results['std_deviation']:.6f}\\n\")\n",
        "        file.write(f\"Elapsed Time: {results['elapsed_time']:.6f} seconds\\n\")\n",
        "\n",
        "\n",
        "def main(FILE_PATH):\n",
        "    numbers = read_file(FILE_PATH)\n",
        "\n",
        "    # Req 3: Handle invalid data\n",
        "    if numbers is None:\n",
        "        return\n",
        "\n",
        "    results = compute_statistics(numbers)\n",
        "\n",
        "    # Req 7: Print elapsed time on the screen\n",
        "    print(f\"Elapsed Time: {results['elapsed_time']:.6f} seconds\")\n",
        "\n",
        "    # Req 2: Print results on the screen\n",
        "    print(f\"Count: {results['count']}\")\n",
        "    print(f\"Mean: {results['mean']:.6f}\")\n",
        "    print(f\"Median: {results['median']:.6f}\")\n",
        "    print(f\"Mode: {results['mode']}\")\n",
        "    print(f\"Variance: {results['variance']:.6f}\")\n",
        "    print(f\"Standard Deviation: {results['std_deviation']:.6f}\")\n",
        "\n",
        "    # Req 7: Write results to file\n",
        "    write_results_to_file(results)\n",
        "\n",
        "\n",
        "if __name__ == \"__main__\":\n",
        "    # Req 5: Provide the file path directly in the script for Jupyter Notebook usage\n",
        "    FILE_PATH = 'fileWithDataP1.txt'\n",
        "\n",
        "\n",
        "    # Run the main function\n",
        "    main(FILE_PATH)\n",
        "\n"
      ],
      "metadata": {
        "colab": {
          "base_uri": "https://localhost:8080/"
        },
        "id": "HTXsxGJn3cp0",
        "outputId": "4c54e3bc-4d3d-4bb1-9bb2-0479f75ca6a4"
      },
      "execution_count": 36,
      "outputs": [
        {
          "output_type": "stream",
          "name": "stdout",
          "text": [
            "Elapsed Time: 0.003422 seconds\n",
            "Count: 400\n",
            "Mean: 242.320000\n",
            "Median: 239.500000\n",
            "Mode: [393.0, 170.0]\n",
            "Variance: 21099.917600\n",
            "Standard Deviation: 145.258107\n"
          ]
        }
      ]
    },
    {
      "cell_type": "code",
      "source": [
        "!pip install pylint\n",
        "\n",
        "!pylint /content/computestatistics.py"
      ],
      "metadata": {
        "colab": {
          "base_uri": "https://localhost:8080/"
        },
        "id": "EnnhTDpngIUV",
        "outputId": "49f7f289-8a73-46f1-9565-521a63a0a023"
      },
      "execution_count": 37,
      "outputs": [
        {
          "output_type": "stream",
          "name": "stdout",
          "text": [
            "Requirement already satisfied: pylint in /usr/local/lib/python3.10/dist-packages (3.0.3)\n",
            "Requirement already satisfied: platformdirs>=2.2.0 in /usr/local/lib/python3.10/dist-packages (from pylint) (4.2.0)\n",
            "Requirement already satisfied: astroid<=3.1.0-dev0,>=3.0.1 in /usr/local/lib/python3.10/dist-packages (from pylint) (3.0.3)\n",
            "Requirement already satisfied: isort!=5.13.0,<6,>=4.2.5 in /usr/local/lib/python3.10/dist-packages (from pylint) (5.13.2)\n",
            "Requirement already satisfied: mccabe<0.8,>=0.6 in /usr/local/lib/python3.10/dist-packages (from pylint) (0.7.0)\n",
            "Requirement already satisfied: tomlkit>=0.10.1 in /usr/local/lib/python3.10/dist-packages (from pylint) (0.12.3)\n",
            "Requirement already satisfied: dill>=0.2 in /usr/local/lib/python3.10/dist-packages (from pylint) (0.3.8)\n",
            "Requirement already satisfied: tomli>=1.1.0 in /usr/local/lib/python3.10/dist-packages (from pylint) (2.0.1)\n",
            "Requirement already satisfied: typing-extensions>=4.0.0 in /usr/local/lib/python3.10/dist-packages (from astroid<=3.1.0-dev0,>=3.0.1->pylint) (4.5.0)\n",
            "************* Module computestatistics\n",
            "computestatistics.py:118:0: C0304: Final newline missing (missing-final-newline)\n",
            "computestatistics.py:26:0: C0116: Missing function or method docstring (missing-function-docstring)\n",
            "computestatistics.py:26:14: C0103: Argument name \"FILE_PATH\" doesn't conform to snake_case naming style (invalid-name)\n",
            "computestatistics.py:26:14: W0621: Redefining name 'FILE_PATH' from outer scope (line 114) (redefined-outer-name)\n",
            "computestatistics.py:34:11: W0718: Catching too general exception Exception (broad-exception-caught)\n",
            "computestatistics.py:39:0: C0116: Missing function or method docstring (missing-function-docstring)\n",
            "computestatistics.py:77:0: C0116: Missing function or method docstring (missing-function-docstring)\n",
            "computestatistics.py:78:9: W1514: Using open without explicitly specifying an encoding (unspecified-encoding)\n",
            "computestatistics.py:88:0: C0116: Missing function or method docstring (missing-function-docstring)\n",
            "computestatistics.py:88:9: C0103: Argument name \"FILE_PATH\" doesn't conform to snake_case naming style (invalid-name)\n",
            "computestatistics.py:88:9: W0621: Redefining name 'FILE_PATH' from outer scope (line 114) (redefined-outer-name)\n",
            "\n",
            "------------------------------------------------------------------\n",
            "Your code has been rated at 8.00/10 (previous run: 7.69/10, +0.31)\n",
            "\n"
          ]
        }
      ]
    }
  ]
}